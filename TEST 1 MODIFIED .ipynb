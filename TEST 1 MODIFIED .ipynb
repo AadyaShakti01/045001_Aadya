{
 "cells": [
  {
   "cell_type": "code",
   "execution_count": 1,
   "id": "2a54f900",
   "metadata": {},
   "outputs": [
    {
     "name": "stdout",
     "output_type": "stream",
     "text": [
      "'a': 3\n",
      "'c': 1\n",
      "'d': 1\n",
      "'n': 2\n",
      "'o': 1\n"
     ]
    }
   ],
   "source": [
    "# IN EACH TASK THE ORIGINAL TASK IS DONE BEFORE THE ADDITIONAL TASK TO PROVIDE COMPLETE INFORMATION IN ONE GO.....\n",
    "#TASK 1\n",
    "#Write a python code which will count the number of unique letters and their frequency. \n",
    "#Test the code with the word ‘Anaconda’. (Note: Remove Case Sensitivity)\n",
    "\n",
    "from collections import Counter\n",
    "\n",
    "def count_unique_letters(word):\n",
    "    # Convert the word to lowercase to remove case sensitivity\n",
    "    word = word.lower()\n",
    "    \n",
    "    # Use Counter to count letter frequencies\n",
    "    letter_counts = Counter(word)\n",
    "    \n",
    "    # Sort the unique letters in alphabetical order\n",
    "    unique_letters = sorted(set(word))\n",
    "    \n",
    "    # Create a list to store the counts and letters in alphabetical order\n",
    "    sorted_counts = [(letter, letter_counts[letter]) for letter in unique_letters]\n",
    "    \n",
    "    return sorted_counts\n",
    "\n",
    "word = 'Anaconda'\n",
    "result = count_unique_letters(word)\n",
    "\n",
    "for letter, count in result:\n",
    "    print(f\"'{letter}': {count}\")\n"
   ]
  },
  {
   "cell_type": "code",
   "execution_count": 2,
   "id": "0198f54a",
   "metadata": {},
   "outputs": [
    {
     "name": "stdout",
     "output_type": "stream",
     "text": [
      "Word with letters arranged in alphabetical order: acdno\n"
     ]
    }
   ],
   "source": [
    "#TASK 1\n",
    "#Additional : And form a word with unique letters in alphabetical order.\n",
    "from collections import Counter\n",
    "\n",
    "def count_unique_letters(word):\n",
    "    # Convert the word to lowercase to remove case sensitivity\n",
    "    word = word.lower()\n",
    "    \n",
    "    # Use Counter to count letter frequencies\n",
    "    letter_counts = Counter(word)\n",
    "    \n",
    "    # Sort the unique letters in alphabetical order\n",
    "    unique_letters = sorted(set(word))\n",
    "    \n",
    "    # Create a string with letters arranged in alphabetical order\n",
    "    sorted_word = ''.join(unique_letters)\n",
    "    \n",
    "    return sorted_word\n",
    "\n",
    "word = 'Anaconda'\n",
    "result = count_unique_letters(word)\n",
    "\n",
    "print(f\"Word with letters arranged in alphabetical order: {result}\")\n"
   ]
  },
  {
   "cell_type": "code",
   "execution_count": 3,
   "id": "801e1452",
   "metadata": {},
   "outputs": [
    {
     "name": "stdout",
     "output_type": "stream",
     "text": [
      "Class Test Score: 35\n",
      "Mid-Term Score: 89\n",
      "Project Score: 75\n",
      "End-Term Score: 48\n",
      "Final Evaluation Score: 63\n"
     ]
    }
   ],
   "source": [
    "#TASK 2\n",
    "#A student’s evaluation is done based on 4 components: Class_Test (10%), Mid_Term (20%), Project (30%) & End_Term (40%). \n",
    "#Write a python code to generate a random score between 10 & 90 (use python library: random) and get the evaluation bifurcation (Round off to Nearest Integer).\n",
    "import random\n",
    "\n",
    "# Generate random scores between 10 and 90 for each component\n",
    "class_test_score = random.randint(10, 90)\n",
    "mid_term_score = random.randint(10, 90)\n",
    "project_score = random.randint(10, 90)\n",
    "end_term_score = random.randint(10, 90)\n",
    "\n",
    "# Calculate the weighted evaluation score\n",
    "evaluation_score = (\n",
    "    (class_test_score * 0.10)\n",
    "    + (mid_term_score * 0.20)\n",
    "    + (project_score * 0.30)\n",
    "    + (end_term_score * 0.40)\n",
    ")\n",
    "\n",
    "# Round the evaluation score to the nearest integer\n",
    "evaluation_score = round(evaluation_score)\n",
    "\n",
    "# Print the individual component scores and the final evaluation score\n",
    "print(f\"Class Test Score: {class_test_score}\")\n",
    "print(f\"Mid-Term Score: {mid_term_score}\")\n",
    "print(f\"Project Score: {project_score}\")\n",
    "print(f\"End-Term Score: {end_term_score}\")\n",
    "print(f\"Final Evaluation Score: {evaluation_score}\")\n"
   ]
  },
  {
   "cell_type": "code",
   "execution_count": 5,
   "id": "3c62d402",
   "metadata": {},
   "outputs": [
    {
     "name": "stdout",
     "output_type": "stream",
     "text": [
      "Performance Analysis Report\n",
      "---------------------------\n",
      "Mean Score: 85.50\n",
      "Standard Deviation: 6.52\n",
      "\n",
      "Grade Distribution:\n",
      "A: 0 students\n",
      "B: 4 students\n",
      "C: 2 students\n",
      "D: 4 students\n",
      "F: 0 students\n",
      "\n",
      "Students who scored above the mean:\n",
      "Student 1: 92\n",
      "Student 2: 88\n",
      "Student 3: 95\n",
      "Student 4: 89\n",
      "Student 5: 91\n"
     ]
    }
   ],
   "source": [
    "#TASK 2\n",
    "# AdditioNAL : Do a performance analysis taking sample scores as (85,78,92,88,76,95,89,82.91,79)\n",
    "# Sample data for demonstration purposes\n",
    "evaluation_scores = [85, 78, 92, 88, 76, 95, 89, 82, 91, 79]\n",
    "\n",
    "# Calculate the mean (average) score\n",
    "mean_score = sum(evaluation_scores) / len(evaluation_scores)\n",
    "\n",
    "# Calculate the standard deviation\n",
    "import statistics\n",
    "std_deviation = statistics.stdev(evaluation_scores)\n",
    "\n",
    "# Define grading criteria (you can customize this)\n",
    "grade_boundaries = {\n",
    "    'A': mean_score + 1.5 * std_deviation,\n",
    "    'B': mean_score + 0.5 * std_deviation,\n",
    "    'C': mean_score - 0.5 * std_deviation,\n",
    "    'D': mean_score - 1.5 * std_deviation,\n",
    "    'F': 0\n",
    "}\n",
    "\n",
    "# Function to assign grades based on the score\n",
    "def assign_grade(score):\n",
    "    for grade, boundary in grade_boundaries.items():\n",
    "        if score >= boundary:\n",
    "            return grade\n",
    "\n",
    "# Generate a performance analysis report\n",
    "print(\"Performance Analysis Report\")\n",
    "print(\"---------------------------\")\n",
    "print(f\"Mean Score: {mean_score:.2f}\")\n",
    "print(f\"Standard Deviation: {std_deviation:.2f}\")\n",
    "print(\"\\nGrade Distribution:\")\n",
    "grades = [assign_grade(score) for score in evaluation_scores]\n",
    "for grade, count in zip(grade_boundaries.keys(), [grades.count(grade) for grade in grade_boundaries.keys()]):\n",
    "    print(f\"{grade}: {count} students\")\n",
    "\n",
    "# Additional analysis or insights can be added here\n",
    "\n",
    "# Example: Find students who scored above the mean\n",
    "above_mean_students = [score for score in evaluation_scores if score >= mean_score]\n",
    "print(\"\\nStudents who scored above the mean:\")\n",
    "for i, score in enumerate(above_mean_students, start=1):\n",
    "    print(f\"Student {i}: {score}\")\n",
    "\n",
    "# You can add more analysis and insights as needed\n",
    "\n",
    "\n"
   ]
  },
  {
   "cell_type": "code",
   "execution_count": 14,
   "id": "b0ec7474",
   "metadata": {},
   "outputs": [
    {
     "name": "stdout",
     "output_type": "stream",
     "text": [
      "Common letters in 'Python' and 'AnAcondA': n o\n"
     ]
    }
   ],
   "source": [
    "#TASK 3\n",
    "#Write a python code to display the letters occurring commonly in 2 words. \n",
    "#Test the code with the words ‘Python’ & ‘Anaconda’. (Note:Remove Case Sensitivity)\n",
    "word1 = 'Python'\n",
    "word2 = 'AnAcondA'\n",
    "\n",
    "# Convert the words to sets of lowercase letters\n",
    "set1 = set(word1.lower())\n",
    "set2 = set(word2.lower())\n",
    "\n",
    "# Find the common letters\n",
    "common_letters = set1.intersection(set2)\n",
    "\n",
    "# Display the common letters\n",
    "if common_letters:\n",
    "    print(f\"Common letters in '{word1}' and '{word2}': {' '.join(common_letters)}\")\n",
    "else:\n",
    "    print(f\"No common letters found in '{word1}' and '{word2}'.\")\n"
   ]
  },
  {
   "cell_type": "code",
   "execution_count": 18,
   "id": "ea785b70",
   "metadata": {},
   "outputs": [
    {
     "name": "stdout",
     "output_type": "stream",
     "text": [
      "Common letters in 'PythoN' and 'Anaconda': o\n"
     ]
    }
   ],
   "source": [
    "#TASK 3\n",
    "#ADDITIONAL : SAME TASK WITHOUT REMOVING CASE SENSITIVITY\n",
    "word1 = 'PythoN'\n",
    "word2 = 'Anaconda'\n",
    "\n",
    "# Convert the words to sets of letters\n",
    "set1 = set(word1)\n",
    "set2 = set(word2)\n",
    "\n",
    "# Find the common letters\n",
    "common_letters = set1.intersection(set2)\n",
    "\n",
    "# Display the common letters\n",
    "if common_letters:\n",
    "    print(f\"Common letters in '{word1}' and '{word2}': {' '.join(common_letters)}\")\n",
    "else:\n",
    "    print(f\"No common letters found in '{word1}' and '{word2}'.\")\n"
   ]
  },
  {
   "cell_type": "code",
   "execution_count": 19,
   "id": "1df11827",
   "metadata": {},
   "outputs": [
    {
     "name": "stdout",
     "output_type": "stream",
     "text": [
      "Generated Score: 61\n",
      "Grade B\n"
     ]
    }
   ],
   "source": [
    "#TASK 4\n",
    "#Write a python code to generate a random score between 0 & 100 (use python library: random). Print the following as output:\n",
    "#1.\tThe score\n",
    "#2.\t‘Grade F’ : If the score is less than 40\n",
    "#3.\t‘Grade C’ : If the score is between 40 & 59\n",
    "#4.\t‘Grade B’ : If the score is between 60 & 84\n",
    "#5.\t‘Grade A’ : If the score is between 85 & 100\n",
    "import random\n",
    "\n",
    "# Generate a random score between 0 and 100\n",
    "score = random.randint(0, 100)\n",
    "\n",
    "# Print the generated score\n",
    "print(\"Generated Score:\", score)\n",
    "\n",
    "# Assign grades based on score ranges\n",
    "if score < 40:\n",
    "    print(\"Grade F\")\n",
    "elif 40 <= score <= 59:\n",
    "    print(\"Grade C\")\n",
    "elif 60 <= score <= 84:\n",
    "    print(\"Grade B\")\n",
    "else:\n",
    "    print(\"Grade A\")\n",
    "\n",
    "\n"
   ]
  },
  {
   "cell_type": "code",
   "execution_count": 20,
   "id": "d5fc2f48",
   "metadata": {},
   "outputs": [
    {
     "name": "stdout",
     "output_type": "stream",
     "text": [
      "Generated Scores and Grades:\n",
      "Score: 49 - Grade C\n",
      "Score: 74 - Grade B\n",
      "Score: 78 - Grade B\n",
      "Score: 4 - Grade F\n",
      "Score: 20 - Grade F\n",
      "Score: 66 - Grade B\n",
      "Score: 76 - Grade B\n",
      "Score: 22 - Grade F\n",
      "Score: 46 - Grade C\n",
      "Score: 65 - Grade B\n",
      "\n",
      "Grade Distribution:\n",
      "Grade F: 4 students\n",
      "Grade C: 1 students\n",
      "Grade B: 5 students\n",
      "Grade A: 0 students\n"
     ]
    }
   ],
   "source": [
    "#TASK 4\n",
    "#ADDITIONAL : FIND 10 RANDOM SCORES AND SHOW GRADE DISTRIBUTION( NO. OF STUDENTS HAVING EACH GRADE)\n",
    "import random\n",
    "\n",
    "# Initialize variables to count the number of students in each grade\n",
    "grade_f_count = 0\n",
    "grade_c_count = 0\n",
    "grade_b_count = 0\n",
    "grade_a_count = 0\n",
    "\n",
    "# Generate and evaluate 10 random scores\n",
    "for _ in range(10):\n",
    "    # Generate a random score between 0 and 100\n",
    "    score = random.randint(0, 100)\n",
    "\n",
    "    # Assign grades based on score ranges\n",
    "    if score < 40:\n",
    "        grade_f_count += 1\n",
    "    elif 40 <= score <= 59:\n",
    "        grade_c_count += 1\n",
    "    elif 60 <= score <= 84:\n",
    "        grade_b_count += 1\n",
    "    else:\n",
    "        grade_a_count += 1\n",
    "\n",
    "# Print the results\n",
    "print(\"Generated Scores and Grades:\")\n",
    "for _ in range(10):\n",
    "    score = random.randint(0, 100)\n",
    "    print(f\"Score: {score}\", end=\" - \")\n",
    "    if score < 40:\n",
    "        print(\"Grade F\")\n",
    "    elif 40 <= score <= 59:\n",
    "        print(\"Grade C\")\n",
    "    elif 60 <= score <= 84:\n",
    "        print(\"Grade B\")\n",
    "    else:\n",
    "        print(\"Grade A\")\n",
    "\n",
    "# Print the number of students in each grade\n",
    "print(\"\\nGrade Distribution:\")\n",
    "print(f\"Grade F: {grade_f_count} students\")\n",
    "print(f\"Grade C: {grade_c_count} students\")\n",
    "print(f\"Grade B: {grade_b_count} students\")\n",
    "print(f\"Grade A: {grade_a_count} students\")\n",
    "\n"
   ]
  },
  {
   "cell_type": "code",
   "execution_count": 21,
   "id": "b7660f10",
   "metadata": {},
   "outputs": [
    {
     "name": "stdout",
     "output_type": "stream",
     "text": [
      "Random Number: 98\n",
      "List of Even Numbers: [2, 4, 6, 8, 10, 12, 14, 16, 18, 20, 22, 24, 26, 28, 30, 32, 34, 36, 38, 40, 42, 44, 46, 48, 50, 52, 54, 56, 58, 60, 62, 64, 66, 68, 70, 72, 74, 76, 78, 80, 82, 84, 86, 88, 90, 92, 94, 96, 98]\n",
      "List of Odd Numbers: [1, 3, 5, 7, 9, 11, 13, 15, 17, 19, 21, 23, 25, 27, 29, 31, 33, 35, 37, 39, 41, 43, 45, 47, 49, 51, 53, 55, 57, 59, 61, 63, 65, 67, 69, 71, 73, 75, 77, 79, 81, 83, 85, 87, 89, 91, 93, 95, 97]\n",
      "List of Prime Numbers: [2, 3, 5, 7, 11, 13, 17, 19, 23, 29, 31, 37, 41, 43, 47, 53, 59, 61, 67, 71, 73, 79, 83, 89, 97]\n"
     ]
    }
   ],
   "source": [
    "#TASK 5\n",
    "#Write a python code to generate a random number between 1 & 99 (use python library: random). Print the following as output:\n",
    "#1.\tThe random number [say, 9]\n",
    "#2.\tList of even numbers up to the random number [2, 4, 6, 8]\n",
    "#3.\tList of odd numbers up to the random number [1, 3, 5, 7, 9]\n",
    "#4.\tList of prime numbers up to the random number [2, 3, 5, 7]\n",
    "\n",
    "import random\n",
    "\n",
    "# Generate a random number between 1 and 99\n",
    "random_number = random.randint(1, 99)\n",
    "\n",
    "# Function to check if a number is prime\n",
    "def is_prime(num):\n",
    "    if num <= 1:\n",
    "        return False\n",
    "    for i in range(2, int(num**0.5) + 1):\n",
    "        if num % i == 0:\n",
    "            return False\n",
    "    return True\n",
    "\n",
    "# Generate lists of even, odd, and prime numbers up to the random number\n",
    "even_numbers = [num for num in range(2, random_number + 1) if num % 2 == 0]\n",
    "odd_numbers = [num for num in range(1, random_number + 1) if num % 2 == 1]\n",
    "prime_numbers = [num for num in range(2, random_number + 1) if is_prime(num)]\n",
    "\n",
    "# Print the results\n",
    "print(\"Random Number:\", random_number)\n",
    "print(\"List of Even Numbers:\", even_numbers)\n",
    "print(\"List of Odd Numbers:\", odd_numbers)\n",
    "print(\"List of Prime Numbers:\", prime_numbers)\n",
    "\n"
   ]
  },
  {
   "cell_type": "code",
   "execution_count": 22,
   "id": "0e2d3d7d",
   "metadata": {},
   "outputs": [
    {
     "name": "stdout",
     "output_type": "stream",
     "text": [
      "Density of Prime Numbers: 0.25510204081632654\n",
      "Density of Even Numbers: 0.5\n",
      "Density of Odd Numbers: 0.5\n"
     ]
    }
   ],
   "source": [
    "#TASK 5\n",
    "#ADDITIONAL : Find the density of even, odd and prime numbers from the above obtained numbers\n",
    "# Density of prime, even, and odd numbers\n",
    "total_numbers = random_number  # The random number from the previous code\n",
    "count_prime = len(prime_numbers)\n",
    "count_even = len(even_numbers)\n",
    "count_odd = len(odd_numbers)\n",
    "\n",
    "density_prime = count_prime / total_numbers\n",
    "density_even = count_even / total_numbers\n",
    "density_odd = count_odd / total_numbers\n",
    "\n",
    "# Print the results\n",
    "print(\"Density of Prime Numbers:\", density_prime)\n",
    "print(\"Density of Even Numbers:\", density_even)\n",
    "print(\"Density of Odd Numbers:\", density_odd)\n"
   ]
  },
  {
   "cell_type": "code",
   "execution_count": 23,
   "id": "97d1f93e",
   "metadata": {},
   "outputs": [
    {
     "name": "stdout",
     "output_type": "stream",
     "text": [
      "Random 4-Digit Number: 7424\n",
      "Thousands Digit: 7 (Thousands place)\n",
      "Hundreds Digit: 4 (Hundreds place)\n",
      "Tens Digit: 2 (Tens place)\n",
      "Ones Digit: 4 (Ones place)\n"
     ]
    }
   ],
   "source": [
    "#TASK 6\n",
    "#Write a python code to generate a 4-digit random number between 1000 & 9999 (use python library: random). Print each digit with its place value.\n",
    "import random\n",
    "\n",
    "# Generate a 4-digit random number between 1000 and 9999\n",
    "random_number = random.randint(1000, 9999)\n",
    "\n",
    "# Extract each digit and print it with its place value\n",
    "thousands_digit = random_number // 1000\n",
    "hundreds_digit = (random_number // 100) % 10\n",
    "tens_digit = (random_number // 10) % 10\n",
    "ones_digit = random_number % 10\n",
    "\n",
    "# Print each digit with its place value\n",
    "print(f\"Random 4-Digit Number: {random_number}\")\n",
    "print(f\"Thousands Digit: {thousands_digit} (Thousands place)\")\n",
    "print(f\"Hundreds Digit: {hundreds_digit} (Hundreds place)\")\n",
    "print(f\"Tens Digit: {tens_digit} (Tens place)\")\n",
    "print(f\"Ones Digit: {ones_digit} (Ones place)\")\n"
   ]
  },
  {
   "cell_type": "code",
   "execution_count": 25,
   "id": "e4705444",
   "metadata": {},
   "outputs": [
    {
     "name": "stdout",
     "output_type": "stream",
     "text": [
      "Sum of Digits: 16\n"
     ]
    }
   ],
   "source": [
    "#TASK 6 \n",
    "#ADDITIONAL : ADD THE DIGITS OBTAINED \n",
    "\n",
    "\n",
    "# Calculate the sum of the digits\n",
    "digit_sum = thousands_digit + hundreds_digit + tens_digit + ones_digit\n",
    "\n",
    "# Print the sum of the digits\n",
    "print(f\"Sum of Digits: {digit_sum}\")\n"
   ]
  },
  {
   "cell_type": "code",
   "execution_count": 26,
   "id": "7a73a36c",
   "metadata": {},
   "outputs": [
    {
     "name": "stdout",
     "output_type": "stream",
     "text": [
      "List of 5 Random Numbers: [-3, 7, -5, -9, -8]\n",
      "Sum of Random Numbers: -18\n"
     ]
    }
   ],
   "source": [
    "#TASK 7\n",
    "#Write a python code to generate 5 random numbers between -9 & +9 (use python library: random). Print the list of 5 random numbers and their sum.\n",
    "import random\n",
    "\n",
    "# Generate 5 random numbers between -9 and +9\n",
    "random_numbers = [random.randint(-9, 9) for _ in range(5)]\n",
    "\n",
    "# Calculate the sum of the random numbers\n",
    "sum_of_numbers = sum(random_numbers)\n",
    "\n",
    "# Print the list of random numbers\n",
    "print(\"List of 5 Random Numbers:\", random_numbers)\n",
    "\n",
    "# Print the sum of the random numbers\n",
    "print(\"Sum of Random Numbers:\", sum_of_numbers)\n"
   ]
  },
  {
   "cell_type": "code",
   "execution_count": 27,
   "id": "da492dbb",
   "metadata": {},
   "outputs": [
    {
     "name": "stdout",
     "output_type": "stream",
     "text": [
      "List of 5 Random Numbers: [-8, 6, 7, -3, -7]\n",
      "Sum of Random Numbers: -5\n",
      "Subtraction Result: -14\n",
      "Multiplication Result: -21\n",
      "Division Result: 0.875\n"
     ]
    }
   ],
   "source": [
    "#TASK 7\n",
    "#ADDITIONAL : DO Multiplication, subtraction and division operations on the same data\n",
    "import random\n",
    "\n",
    "# Generate 5 random numbers between -9 and +9\n",
    "random_numbers = [random.randint(-9, 9) for _ in range(5)]\n",
    "\n",
    "# Calculate the sum, subtraction, multiplication, and division of the random numbers\n",
    "sum_of_numbers = sum(random_numbers)\n",
    "subtraction_result = random_numbers[0] - random_numbers[1]\n",
    "multiplication_result = random_numbers[2] * random_numbers[3]\n",
    "# Avoid division by zero and ensure float division\n",
    "division_result = random_numbers[4] / (random_numbers[0] if random_numbers[0] != 0 else 1)\n",
    "\n",
    "# Print the list of random numbers\n",
    "print(\"List of 5 Random Numbers:\", random_numbers)\n",
    "\n",
    "# Print the results of the operations\n",
    "print(\"Sum of Random Numbers:\", sum_of_numbers)\n",
    "print(\"Subtraction Result:\", subtraction_result)\n",
    "print(\"Multiplication Result:\", multiplication_result)\n",
    "print(\"Division Result:\", division_result)\n"
   ]
  },
  {
   "cell_type": "code",
   "execution_count": 28,
   "id": "c0c7731d",
   "metadata": {},
   "outputs": [
    {
     "name": "stdout",
     "output_type": "stream",
     "text": [
      "Input Date: 2022-07-15\n",
      "Years: 1\n",
      "Months: 1\n",
      "Days: 26\n"
     ]
    }
   ],
   "source": [
    "#TASK 8\n",
    "#Write a python code to calculate the number of Years, Months & Days, with respect to Today, given a Date.\n",
    "from datetime import datetime\n",
    "\n",
    "# Input date in the format \"YYYY-MM-DD\"\n",
    "input_date_str = \"2022-07-15\"\n",
    "\n",
    "# Convert the input date string to a datetime object\n",
    "input_date = datetime.strptime(input_date_str, \"%Y-%m-%d\")\n",
    "\n",
    "# Get today's date as a datetime object\n",
    "today_date = datetime.now()\n",
    "\n",
    "# Calculate the difference between the input date and today's date\n",
    "date_difference = today_date - input_date\n",
    "\n",
    "# Calculate years, months, and days\n",
    "years = date_difference.days // 365\n",
    "months = (date_difference.days % 365) // 30\n",
    "days = (date_difference.days % 365) % 30\n",
    "\n",
    "# Print the result\n",
    "print(\"Input Date:\", input_date_str)\n",
    "print(\"Years:\", years)\n",
    "print(\"Months:\", months)\n",
    "print(\"Days:\", days)\n"
   ]
  },
  {
   "cell_type": "code",
   "execution_count": 29,
   "id": "07e9ed6d",
   "metadata": {},
   "outputs": [
    {
     "name": "stdout",
     "output_type": "stream",
     "text": [
      "Enter your date of birth (YYYY-MM-DD): 2002-02-20\n",
      "Your age is: 21 years\n"
     ]
    }
   ],
   "source": [
    "#TASK 8\n",
    "#ADDITIONAL : FIND age when birthday is provided\n",
    "from datetime import datetime\n",
    "\n",
    "# Input date of birth in the format \"YYYY-MM-DD\"\n",
    "dob_str = input(\"Enter your date of birth (YYYY-MM-DD): \")\n",
    "\n",
    "# Convert the input date of birth string to a datetime object\n",
    "dob = datetime.strptime(dob_str, \"%Y-%m-%d\")\n",
    "\n",
    "# Get today's date as a datetime object\n",
    "current_date = datetime.now()\n",
    "\n",
    "# Calculate the age\n",
    "age = current_date.year - dob.year - ((current_date.month, current_date.day) < (dob.month, dob.day))\n",
    "\n",
    "# Print the age\n",
    "print(\"Your age is:\", age, \"years\")\n"
   ]
  },
  {
   "cell_type": "code",
   "execution_count": 30,
   "id": "03ae0332",
   "metadata": {},
   "outputs": [
    {
     "name": "stdout",
     "output_type": "stream",
     "text": [
      "Enter the height of the diamond: 9\n",
      "        *\n",
      "       ***\n",
      "      *****\n",
      "     *******\n",
      "    *********\n",
      "   ***********\n",
      "  *************\n",
      " ***************\n",
      "*****************\n",
      " ***************\n",
      "  *************\n",
      "   ***********\n",
      "    *********\n",
      "     *******\n",
      "      *****\n",
      "       ***\n",
      "        *\n"
     ]
    }
   ],
   "source": [
    "#TASK 9\n",
    "#Write a python code to generate the following ‘diamond’ pattern.\n",
    "# Define the height of the diamond (number of rows)\n",
    "height = int(input(\"Enter the height of the diamond: \"))\n",
    "\n",
    "# Upper part of the diamond\n",
    "for i in range(1, height + 1):\n",
    "    spaces = height - i\n",
    "    stars = 2 * i - 1\n",
    "    print(\" \" * spaces + \"*\" * stars)\n",
    "\n",
    "# Lower part of the diamond\n",
    "for i in range(height - 1, 0, -1):\n",
    "    spaces = height - i\n",
    "    stars = 2 * i - 1\n",
    "    print(\" \" * spaces + \"*\" * stars)\n"
   ]
  },
  {
   "cell_type": "code",
   "execution_count": 32,
   "id": "c8c63fda",
   "metadata": {},
   "outputs": [
    {
     "name": "stdout",
     "output_type": "stream",
     "text": [
      "Enter the height of the diamond: 9\n",
      "Upper Triangle:\n",
      "        *\n",
      "       ***\n",
      "      *****\n",
      "     *******\n",
      "    *********\n",
      "   ***********\n",
      "  *************\n",
      " ***************\n",
      "*****************\n",
      "\n",
      "Lower Triangle:\n",
      " ***************\n",
      "  *************\n",
      "   ***********\n",
      "    *********\n",
      "     *******\n",
      "      *****\n",
      "       ***\n",
      "        *\n",
      "\n"
     ]
    }
   ],
   "source": [
    "#TASK 9\n",
    "#ADDITIONAL : Print the upper and lower triangles seperately\n",
    "# Define the height of the diamond (number of rows)\n",
    "height = int(input(\"Enter the height of the diamond: \"))\n",
    "\n",
    "# Initialize variables to store the upper and lower triangles\n",
    "upper_triangle = \"\"\n",
    "lower_triangle = \"\"\n",
    "\n",
    "# Upper part of the diamond (upper triangle)\n",
    "for i in range(1, height + 1):\n",
    "    spaces = height - i\n",
    "    stars = 2 * i - 1\n",
    "    upper_triangle += \" \" * spaces + \"*\" * stars + \"\\n\"\n",
    "\n",
    "# Lower part of the diamond (lower triangle)\n",
    "for i in range(height - 1, 0, -1):\n",
    "    spaces = height - i\n",
    "    stars = 2 * i - 1\n",
    "    lower_triangle += \" \" * spaces + \"*\" * stars + \"\\n\"\n",
    "\n",
    "# Print the upper triangle\n",
    "print(\"Upper Triangle:\")\n",
    "print(upper_triangle)\n",
    "\n",
    "# Print the lower triangle\n",
    "print(\"Lower Triangle:\")\n",
    "print(lower_triangle)\n",
    "\n"
   ]
  },
  {
   "cell_type": "code",
   "execution_count": 33,
   "id": "e14358b3",
   "metadata": {},
   "outputs": [
    {
     "name": "stdout",
     "output_type": "stream",
     "text": [
      "List A: ['W', 'P', 'Y', 'Z', 'N', 'N', 'B', 'Y', 'X', 'Z']\n",
      "List B: ['W', 'Z', 'Y', 'B', 'P', 'Y', 'X', 'Z', 'N', 'N']\n",
      "\n",
      "Network Connections:\n",
      "W --> W\n",
      "P --> Z\n",
      "Y --> Z\n",
      "Z --> N\n",
      "N --> Y\n",
      "B --> X\n",
      "X --> N\n",
      "\n",
      "Inquiry for element B\n",
      "Connected To: []\n",
      "Connected From: ['B']\n"
     ]
    }
   ],
   "source": [
    "#TASK 10\n",
    "#Write a python code to create a list of 10 random letters (say List A). Create a copy of List A (say List B). Shuffle both List A & B. Treat each element of List A (say a) as Source and the corresponding element of List B (say b) as Destination. It is assumed that a from list A is connected to b from List B. Map the network of all connected elements such that an inquiry of any element will show the connected paths to & from the element.\n",
    "import random\n",
    "\n",
    "# Create List A with 10 random letters\n",
    "list_a = [chr(random.randint(65, 90)) for _ in range(10)]\n",
    "\n",
    "# Create a copy of List A as List B\n",
    "list_b = list(list_a)\n",
    "\n",
    "# Shuffle both List A and List B\n",
    "random.shuffle(list_a)\n",
    "random.shuffle(list_b)\n",
    "\n",
    "# Create a dictionary to represent the connections\n",
    "connections = {list_a[i]: list_b[i] for i in range(len(list_a))}\n",
    "\n",
    "# Function to find connected paths to and from an element\n",
    "def find_paths(element):\n",
    "    connected_to = [key for key, value in connections.items() if value == element]\n",
    "    connected_from = [key for key, value in connections.items() if key == element]\n",
    "    return connected_to, connected_from\n",
    "\n",
    "# Test the network by inquiring about an element\n",
    "inquiry_element = random.choice(list_a)\n",
    "connected_to, connected_from = find_paths(inquiry_element)\n",
    "\n",
    "# Print the network\n",
    "print(\"List A:\", list_a)\n",
    "print(\"List B:\", list_b)\n",
    "print(\"\\nNetwork Connections:\")\n",
    "for element_a, element_b in connections.items():\n",
    "    print(f\"{element_a} --> {element_b}\")\n",
    "\n",
    "print(\"\\nInquiry for element\", inquiry_element)\n",
    "print(\"Connected To:\", connected_to)\n",
    "print(\"Connected From:\", connected_from)\n"
   ]
  },
  {
   "cell_type": "code",
   "execution_count": 34,
   "id": "12d2abc5",
   "metadata": {},
   "outputs": [
    {
     "name": "stdout",
     "output_type": "stream",
     "text": [
      "List A: ['N', 'X', 'I', 'W', 'I', 'A', 'N', 'M', 'M', 'F']\n",
      "List B: ['I', 'F', 'N', 'M', 'M', 'I', 'W', 'A', 'X', 'N']\n",
      "\n",
      "Network Connections:\n",
      "N --> W\n",
      "X --> F\n",
      "I --> M\n",
      "W --> M\n",
      "A --> I\n",
      "M --> X\n",
      "F --> N\n",
      "\n",
      "Inquiry for element M\n",
      "Connected To: ['I', 'W']\n",
      "Connected From: ['M']\n"
     ]
    }
   ],
   "source": [
    "#TASK 10\n",
    "#ADDITIONAL : ENSURE THAT EACH ELEMENT IN A HAS UNIQUE IMAGE IN B\n",
    "import random\n",
    "\n",
    "# Create List A with 10 random letters\n",
    "list_a = [chr(random.randint(65, 90)) for _ in range(10)]\n",
    "\n",
    "# Create a copy of List A as List B\n",
    "list_b = list(list_a)\n",
    "\n",
    "# Shuffle List A\n",
    "random.shuffle(list_a)\n",
    "\n",
    "# Shuffle List B in a way that ensures unique connections\n",
    "while True:\n",
    "    random.shuffle(list_b)\n",
    "    if all(a != b for a, b in zip(list_a, list_b)):\n",
    "        break\n",
    "\n",
    "# Create a dictionary to represent the connections\n",
    "connections = {list_a[i]: list_b[i] for i in range(len(list_a))}\n",
    "\n",
    "# Function to find connected paths to and from an element\n",
    "def find_paths(element):\n",
    "    connected_to = [key for key, value in connections.items() if value == element]\n",
    "    connected_from = [key for key, value in connections.items() if key == element]\n",
    "    return connected_to, connected_from\n",
    "\n",
    "# Test the network by inquiring about an element\n",
    "inquiry_element = random.choice(list_a)\n",
    "connected_to, connected_from = find_paths(inquiry_element)\n",
    "\n",
    "# Print the network\n",
    "print(\"List A:\", list_a)\n",
    "print(\"List B:\", list_b)\n",
    "print(\"\\nNetwork Connections:\")\n",
    "for element_a, element_b in connections.items():\n",
    "    print(f\"{element_a} --> {element_b}\")\n",
    "\n",
    "print(\"\\nInquiry for element\", inquiry_element)\n",
    "print(\"Connected To:\", connected_to)\n",
    "print(\"Connected From:\", connected_from)\n"
   ]
  },
  {
   "cell_type": "code",
   "execution_count": null,
   "id": "4130ce7e",
   "metadata": {},
   "outputs": [],
   "source": []
  }
 ],
 "metadata": {
  "kernelspec": {
   "display_name": "Python 3 (ipykernel)",
   "language": "python",
   "name": "python3"
  },
  "language_info": {
   "codemirror_mode": {
    "name": "ipython",
    "version": 3
   },
   "file_extension": ".py",
   "mimetype": "text/x-python",
   "name": "python",
   "nbconvert_exporter": "python",
   "pygments_lexer": "ipython3",
   "version": "3.11.3"
  }
 },
 "nbformat": 4,
 "nbformat_minor": 5
}
